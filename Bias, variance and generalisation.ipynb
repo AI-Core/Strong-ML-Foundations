{
 "cells": [
  {
   "cell_type": "markdown",
   "metadata": {},
   "source": [
    "# Bias, variance and generalisation\n",
    "\n",
    "## Prerequisites\n",
    "- [Gradient based optimisation]()\n",
    "\n",
    "This notebook will introduce some core concepts in machine learning.\n",
    "- **Bias** - are we optimising for the right thing\n",
    "- **Variance** - \n",
    "\n",
    "## The data generating, empirical, training and test distributions \n",
    "\n",
    "Imagine an unsupervised dataset (with only input features, no output labels), where every datapoint is the height of a person. \n",
    "Not all values of height appear in this dataset:\n",
    "- It is very unlikely to include an example of someone whos height was 3 meters. \n",
    "- It is also unlikely to include examples of someone whos height is 0.3 meters.  \n",
    "- We know that it's impossible for any value to be negative!\n",
    "\n",
    "Why is this?\n",
    "\n",
    "They have these heights because naturally, life generates people with these particular dimensions.\n",
    "Not all heights are distributed to an equal number of people - some heights are more likely than others.\n",
    "Real examples are sampled from the **data generating distribution**, $p_{data}$.\n",
    "\n",
    "The values which appear in the dataset are the heights of people who were sampled from the whole population. \n",
    "The population contains many people of many different heights.\n",
    "So the values in our dataset makes up an **empirical distribution**.\n",
    "That is, this distribution is what we expect the data generating distribution to look like.\n",
    "We hope that this training distribution is **representative** of the data generating distribution.\n",
    "\n",
    "We can then split our empirically distributed dataset into a training set and a testing set, which define the training distribution, $p_{train}$, and test distribution, $p_{test}$ of our dataset.\n",
    "\n",
    "### Another example\n",
    "Imagine an unsupervised image dataset. Images from the data generating distibution, $p_{data}$ look like something that you actually might see in real life, rather than something random or psychadelic. Our empirical distribution is a subset of these images from the data generating distibution. We then split this dataset into our train and test sets.\n",
    "\n",
    "### The supervised dataset case\n",
    "\n",
    "Extending the idea to supervised datasets, the data generating distribution controls the likelihood of any particular input-output pair. The data generating distribution of a dataset of people's heights as inputs and their ages as outputs (for predicting age from height maybe) is very unlikely to generate a pair like $(height=3 \\ meters, age=25 \\ years)$, but this distribution will define what examples are most likely to be sampled in the empirical distribution of our dataset.\n",
    "\n",
    "### How classifiers use these distributions to make discrete predictions\n",
    "\n",
    "Classifiers predict probabilities of an example being a member of a particular class, the function which leads to each output () is exactly trying to model the data generating distribution for each of those classes.\n",
    "Each class will essentially be its own dataset, with its own data generating distribution (all examples) and its own empirical distribution.\n",
    "\n",
    "# classifier img\n",
    "\n",
    "### How regression models use these distributions to make continuous predictions\n",
    "\n",
    "Regression models predict continuous values from a supervised dataset. They do not predict the probability of the input being a member of some class, but rather they predict the most likely value to be sampled from a Gaussian probability distribution over that input variable taking that particular value, and then output the most likely value to be sampled from that distribution as a prediction (see more in the [maximum likelihood notebook]())\n",
    "\n",
    "# argmax p(x|y) img\n",
    "\n",
    "## Bias\n",
    "\n",
    "When we train our models, we need to make sure that they are being optimised for the right thing.\n",
    "\n",
    "If we try to fit a curve with a straight line, the line's parameters may converge to values that produce the minimum loss (best fit). But it certainly wont actually represent the curved input-output relationship that we need. \n",
    "\n",
    "In this case, our model is biased to modelling a linear function, when in reality the true function is not linear, its curved.\n",
    "\n",
    "Let's look at that. Run the cell below to create a linear model and optimise its parameters to best fit a cubic function."
   ]
  },
  {
   "cell_type": "code",
   "execution_count": 51,
   "metadata": {},
   "outputs": [
    {
     "name": "stdout",
     "output_type": "stream",
     "text": [
      "X: [ -5.51020408  -6.73469388  -5.10204082   8.7755102    5.51020408\n",
      "  -5.10204082 -10.          -4.69387755] \n",
      "\n",
      "Y: [-136.94039048 -260.10335829 -106.77948814  752.80792867  197.66508853\n",
      " -106.77948814 -900.          -81.38530714] \n",
      "\n"
     ]
    },
    {
     "name": "stderr",
     "output_type": "stream",
     "text": [
      "/home/ice/.local/lib/python3.6/site-packages/ipykernel_launcher.py:51: RuntimeWarning: invalid value encountered in subtract\n"
     ]
    },
    {
     "data": {
      "image/png": "[encoded data removed]",
      "text/plain": [
       "<Figure size 432x288 with 1 Axes>"
      ]
     },
     "metadata": {
      "needs_background": "light"
     },
     "output_type": "display_data"
    }
   ],
   "source": [
    "import matplotlib.pyplot as plt\n",
    "import numpy as np\n",
    "from numpy.polynomial import Polynomial\n",
    "\n",
    "# def plot_data(X, Y):\n",
    "#     plt.figure() # create a figure\n",
    "#     plt.scatter(X, Y, c='r') # plot the data in color=red\n",
    "#     plt.xlabel('X')\n",
    "#     plt.ylabel('Y')\n",
    "#     plt.show()\n",
    "\n",
    "_range = 10\n",
    "\n",
    "def sample_polynomial_data(m=20, order=3, _range=1):\n",
    "    coeffs = np.random.randn(order + 1) # initialise random coefficients for each order of the input + a constant offset\n",
    "    print(Polynomial(coeffs))\n",
    "    poly_func = np.vectorize(Polynomial(coeffs)) # \n",
    "    X = np.random.randn(m)\n",
    "    Y = poly_func(X)\n",
    "    return X, Y, coeffs #returns X (the input), Y (labels) and coefficients for each power\n",
    "\n",
    "m = 5 # how many examples do we want?\n",
    "order = 3 # how many powers do we want to raise our input data to?\n",
    "data = np.linspace(-_range, _range, 50)\n",
    "X = np.random.choice(data, size=(8,))\n",
    "Y = X**2 + X**3\n",
    "print('X:',X, '\\n')\n",
    "print('Y:',Y, '\\n')\n",
    "\n",
    "class MultiVariableLinearHypothesis:\n",
    "    def __init__(self, n_features):\n",
    "        self.n_features = n_features\n",
    "        self.b = np.random.randn()\n",
    "        self.w = np.random.randn(n_features)\n",
    "    def __call__(self, X): #input is of shape (n_datapoints, n_vars)\n",
    "        y_hat = np.matmul(X, self.w) + self.b\n",
    "        return y_hat #output is of shape (n_datapoints, 1)\n",
    "    def update_params(self, new_w, new_b):\n",
    "        self.w = new_w\n",
    "        self.b = new_b\n",
    "    def calc_deriv(self, X, y_hat, labels):\n",
    "        diffs = y_hat-labels\n",
    "        dLdw = 2 * np.array([np.sum(diffs * X[:, i]) / m for i in range(self.n_features)])                          \n",
    "        dLdb = 2*np.sum(diffs)/m\n",
    "        return dLdw, dLdb\n",
    "                           \n",
    "def train(num_epochs, X, Y, H):\n",
    "    for e in range(num_epochs): # for this many complete runs through the dataset\n",
    "        y_hat = H(X) # make predictions\n",
    "        dLdw, dLdb = H.calc_deriv(X, y_hat, Y) # calculate gradient of current loss with respect to model parameters\n",
    "        new_w = H.w - learning_rate * dLdw # compute new model weight using gradient descent update rule\n",
    "        new_b = H.b - learning_rate * dLdb # compute new model bias using gradient descent update rule\n",
    "        H.update_params(new_w, new_b) # update model weight and bias\n",
    "                           \n",
    "def plot_h_vs_y(X, y_hat, Y):\n",
    "    fig = plt.figure()\n",
    "    plt.scatter(X, Y, c='r', label='Label')\n",
    "    plt.plot(datanp.linspace(-_range, _range)**3, data**3)\n",
    "    plt.scatter(X, y_hat, c='b', label='Prediction', marker='x')\n",
    "    plt.legend()\n",
    "    plt.xlabel('X')\n",
    "    plt.ylabel('Y')\n",
    "    plt.show()\n",
    "    \n",
    "def create_polynomial_inputs(X, order=3):\n",
    "    new_dataset = np.array([X, *[np.power(X, i) for i in range(2, order + 1)]]).T\n",
    "    return new_dataset # new_dataset should be shape [m, order]\n",
    "              \n",
    "num_epochs = 1000\n",
    "learning_rate = 0.03\n",
    "highest_order_power = 1\n",
    "\n",
    "X = create_polynomial_inputs(X, highest_order_power)\n",
    "H = MultiVariableLinearHypothesis(n_features=highest_order_power)  \n",
    "    \n",
    "train(num_epochs, X, Y, H) # train model and plot cost curve\n",
    "plot_h_vs_y(X, H(X), Y) # plot predictions and true data                           "
   ]
  },
  {
   "cell_type": "code",
   "execution_count": 29,
   "metadata": {
    "scrolled": true
   },
   "outputs": [
    {
     "data": {
      "image/png": "[encoded data removed]",
      "text/plain": [
       "<Figure size 1440x360 with 1 Axes>"
      ]
     },
     "metadata": {
      "needs_background": "light"
     },
     "output_type": "display_data"
    }
   ],
   "source": [
    "import matplotlib.pyplot as plt\n",
    "import numpy as np\n",
    "\n",
    "class LinearModel:\n",
    "    def __init__(self):\n",
    "        self.w = np.random.randn()\n",
    "        self.b = np.random.randn()\n",
    "        \n",
    "    def __call__(self, x):\n",
    "        h = self.w * x + self.b\n",
    "        return h\n",
    "        \n",
    "    def update_params(self, new_w, new_b):\n",
    "        self.w = new_w\n",
    "        self.b = new_b\n",
    "        \n",
    "def loss(pred, y):\n",
    "    return np.mean((pred-y)**2)\n",
    "\n",
    "def random_search(model, attempts=10000):\n",
    "    best_loss = float('inf')\n",
    "    for idx in range(attempts):\n",
    "        new_w = np.random.rand()\n",
    "        new_b = np.random.rand()\n",
    "        model.update_params(new_w, new_b)\n",
    "        h = model(x)\n",
    "        l = loss(h, y)\n",
    "        if l < best_loss:\n",
    "            best_loss = l\n",
    "            best_w, best_b = new_w, new_b\n",
    "    model.update_params(best_w, best_b)\n",
    "    return model\n",
    "\n",
    "x = np.linspace(-1, 1)\n",
    "y = x**3\n",
    "\n",
    "H = LinearModel()\n",
    "H = random_search(H)\n",
    "\n",
    "fig = plt.figure(figsize=(20, 5))\n",
    "ax1 = fig.add_subplot(121)\n",
    "ax1.plot(x, y, label='True data')\n",
    "ax1.plot(x, H(x), label='Best predictions')\n",
    "ax1.legend()\n",
    "ax1.set_title('Linear model trying to fit cubic function')\n",
    "plt.show()\n",
    "\n",
    "print('Model weights:', H)"
   ]
  },
  {
   "cell_type": "markdown",
   "metadata": {},
   "source": [
    "In practice it's very unlikely that we ever actually know the true parameters that define the data generating process. But in this case, because we defined that process, we do know them and we can quantitatively calculate the bias.\n",
    "We only know in this case because we made it ourselves. But because we do know it right now, we can actually estimate the variance of this model as a demonstration!\n"
   ]
  },
  {
   "cell_type": "markdown",
   "metadata": {},
   "source": [
    "\n",
    "Bias is defined as the expected difference between the parameters that we find, and the true parameters that define the data generating distribution.\n",
    "\n",
    "![title](images/NN1_bias.JPG)\n",
    "![title](images/computing-bias.jpg)\n",
    "\n",
    "\n",
    "### Testing Generalisation\n",
    "\n",
    "We build machine learning algorithms to make predictions. The real measure of success in machine learning is when we can make correct predictions for samples that the model has not seen yet. So lets make a function which will generate us test data by sampling from the same distribution as the training set."
   ]
  },
  {
   "cell_type": "code",
   "execution_count": 1,
   "metadata": {},
   "outputs": [
    {
     "ename": "NameError",
     "evalue": "name 'ground_truth_coeffs' is not defined",
     "output_type": "error",
     "traceback": [
      "\u001b[0;31m---------------------------------------------------------------------------\u001b[0m",
      "\u001b[0;31mNameError\u001b[0m                                 Traceback (most recent call last)",
      "\u001b[0;32m<ipython-input-1-6fef3f0a60a2>\u001b[0m in \u001b[0;36m<module>\u001b[0;34m\u001b[0m\n\u001b[1;32m     13\u001b[0m \u001b[0;34m\u001b[0m\u001b[0m\n\u001b[1;32m     14\u001b[0m \u001b[0mm_test\u001b[0m \u001b[0;34m=\u001b[0m \u001b[0;36m20\u001b[0m\u001b[0;34m\u001b[0m\u001b[0;34m\u001b[0m\u001b[0m\n\u001b[0;32m---> 15\u001b[0;31m \u001b[0mX_test\u001b[0m\u001b[0;34m,\u001b[0m \u001b[0mY_test\u001b[0m \u001b[0;34m=\u001b[0m \u001b[0msample_more_polynomial_data\u001b[0m\u001b[0;34m(\u001b[0m\u001b[0mground_truth_coeffs\u001b[0m\u001b[0;34m,\u001b[0m \u001b[0mm_test\u001b[0m\u001b[0;34m)\u001b[0m\u001b[0;34m\u001b[0m\u001b[0;34m\u001b[0m\u001b[0m\n\u001b[0m\u001b[1;32m     16\u001b[0m \u001b[0mprint\u001b[0m\u001b[0;34m(\u001b[0m\u001b[0;34m'X:'\u001b[0m\u001b[0;34m,\u001b[0m\u001b[0mX_test\u001b[0m\u001b[0;34m,\u001b[0m \u001b[0;34m'\\n'\u001b[0m\u001b[0;34m)\u001b[0m\u001b[0;34m\u001b[0m\u001b[0;34m\u001b[0m\u001b[0m\n\u001b[1;32m     17\u001b[0m \u001b[0mprint\u001b[0m\u001b[0;34m(\u001b[0m\u001b[0;34m'Y:'\u001b[0m\u001b[0;34m,\u001b[0m\u001b[0mY_test\u001b[0m\u001b[0;34m,\u001b[0m \u001b[0;34m'\\n'\u001b[0m\u001b[0;34m)\u001b[0m\u001b[0;34m\u001b[0m\u001b[0;34m\u001b[0m\u001b[0m\n",
      "\u001b[0;31mNameError\u001b[0m: name 'ground_truth_coeffs' is not defined"
     ]
    }
   ],
   "source": [
    "def plot_data(X, Y):\n",
    "    plt.figure() # create a figure\n",
    "    plt.scatter(X, Y, c='r') # plot the data in color=red\n",
    "    plt.xlabel('X')\n",
    "    plt.ylabel('Y')\n",
    "    plt.show()\n",
    "\n",
    "def sample_more_polynomial_data(coeffs, m_test=20, rng=3):\n",
    "    poly_func = np.vectorize(Polynomial(coeffs))\n",
    "    X = np.random.randn(m_test)*rng\n",
    "    Y = poly_func(X)\n",
    "    return X, Y#returns X (the input), Y (labels)\n",
    "\n",
    "m_test = 20\n",
    "X_test, Y_test = sample_more_polynomial_data(ground_truth_coeffs, m_test)\n",
    "print('X:',X_test, '\\n')\n",
    "print('Y:',Y_test, '\\n')\n",
    "plot_data(X_test, Y_test)"
   ]
  },
  {
   "cell_type": "code",
   "execution_count": null,
   "metadata": {},
   "outputs": [],
   "source": [
    "X_test_polynomial_augmented = create_polynomial_data(X, highest_order_power)\n",
    "X_test_normalized = normalize_data(X_polynomial_augmented)\n",
    "plot_h_vs_y(X, H(X_test_normalized), Y)"
   ]
  },
  {
   "cell_type": "markdown",
   "metadata": {},
   "source": [
    "## Variance\n",
    "\n",
    "Sometimes, we have the opposite problem to high bias - high variance. That is, our model's capacity is so high that it can easily fit all the points perfectly, but there are many ways for us to do this. This is called high variance. To reduce this, we can either reduce the capacity of our model. We could also introduce regularization, which we cover in the [next notebook](http://theaicore.com/app/training/regularisation).\n",
    "\n",
    "![title](images/NN1_variance.JPG)\n",
    "\n",
    "Again, in practice it's very unlikely that we ever actually know the parameterisation of the data generating distribution. We only know in this case because we made it ourselves. But because we do know it right now, we can actually estimate the variance of this model as a demonstration!\n"
   ]
  },
  {
   "cell_type": "code",
   "execution_count": null,
   "metadata": {},
   "outputs": [],
   "source": []
  },
  {
   "cell_type": "code",
   "execution_count": null,
   "metadata": {},
   "outputs": [],
   "source": [
    "num_epochs = 1000\n",
    "learning_rate = 0.03\n",
    "highest_order_power = 5\n",
    "\n",
    "X_polynomial_augmented = create_polynomial_data(X, highest_order_power)\n",
    "X_normalized = normalize_data(X_polynomial_augmented)\n",
    "H = MultiVariableLinearHypothesis(n_vars=highest_order_power)"
   ]
  },
  {
   "cell_type": "code",
   "execution_count": null,
   "metadata": {},
   "outputs": [],
   "source": [
    "train(num_epochs, X_normalized, Y, H, L)\n",
    "plot_h_vs_y(X, H(X_normalized), Y)\n",
    "plot_h_vs_y(X, H(X_test_normalized), Y)\n",
    "\n",
    "def compute_bias():\n",
    "\n",
    "def compute_variance():\n",
    "    for idx in range(100): # train for 100 epochs"
   ]
  }
 ],
 "metadata": {
  "kernelspec": {
   "display_name": "Python 3",
   "language": "python",
   "name": "python3"
  },
  "language_info": {
   "codemirror_mode": {
    "name": "ipython",
    "version": 3
   },
   "file_extension": ".py",
   "mimetype": "text/x-python",
   "name": "python",
   "nbconvert_exporter": "python",
   "pygments_lexer": "ipython3",
   "version": "3.6.9"
  }
 },
 "nbformat": 4,
 "nbformat_minor": 2
}
