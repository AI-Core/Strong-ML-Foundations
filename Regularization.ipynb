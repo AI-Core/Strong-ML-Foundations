{
 "cells": [
  {
   "cell_type": "markdown",
   "metadata": {},
   "source": [
    "# Regularization\n",
    "\n",
    "## Prerequisites\n",
    "- [Bias, variance and generalisation](https://github.com/AI-Core/Strong-ML-Foundations/blob/master/Bias%2C%20variance%20and%20generalisation.ipynb)\n",
    "\n",
    "Regularization is the name given to techniques that bias our search towards a subset of all possible parameters in order to reduce overfitting.\n",
    "\n",
    "In this simple case, we bias the parameter values towards 0. This pushes the coeffecients of a feature to 0 if the feature is not contributing significantly to reducing the cost. For example, in the case that we are modelling a polynomial of order 2 using a polynomial of order 5, the coefficients of features which are of higher order than 2 should be pushed to 0.\n",
    "\n",
    "To implement the above method, we simply add an extra term to our normal cost function which is equal to the sum of the square of all weights multiplied by a \"regularization factor\" which controls the magnitude of the regularization. So the higher the weight values, the bigger the cost.\n",
    "\n",
    "![title](images/NN1_regularization.JPG)"
   ]
  },
  {
   "cell_type": "code",
   "execution_count": 4,
   "metadata": {},
   "outputs": [
    {
     "name": "stdout",
     "output_type": "stream",
     "text": [
      "poly([ 1.30311698  1.05372519  0.22364866 -1.67963441])\n",
      "X: [ 0.07256584  0.16802917 -0.26761938  0.29005903 -0.6275474  -0.60222674\n",
      "  0.85292694 -0.9814642   0.47027831 -0.02575333 -0.65730062  0.03797742\n",
      "  0.49426325 -0.21218904  0.31946084 -0.87595857  0.48060612  0.64046281\n",
      " -0.58108183 -0.62665085] \n",
      "\n",
      "Y: [1.38011731 1.47851964 1.06933089 1.58658637 1.1450324  1.1165031\n",
      " 1.32237044 2.07231276 1.67342895 1.27615708 1.18411623 1.34336531\n",
      " 1.67576096 1.10564426 1.6078049  1.68062972 1.67474392 1.62846582\n",
      " 1.0958868  1.14394907] \n",
      "\n",
      "Ground truth coefficients: [ 1.30311698  1.05372519  0.22364866 -1.67963441] \n",
      "\n"
     ]
    },
    {
     "data": {
      "image/png": "[encoded data removed]",
      "text/plain": [
       "<Figure size 432x288 with 1 Axes>"
      ]
     },
     "metadata": {
      "needs_background": "light"
     },
     "output_type": "display_data"
    }
   ],
   "source": [
    "import numpy as np\n",
    "from numpy.polynomial import Polynomial\n",
    "import matplotlib.pyplot as plt\n",
    "\n",
    "def plot_data(X, Y):\n",
    "    plt.figure() # create a figure\n",
    "    plt.scatter(X, Y, c='r') # plot the data in color=red\n",
    "    plt.xlabel('X')\n",
    "    plt.ylabel('Y')\n",
    "    plt.show()\n",
    "\n",
    "def sample_polynomial_data(m=20, order=3, _range=1):\n",
    "    coeffs = np.random.randn(order + 1) # initialise random coefficients for each order of the input + a constant offset\n",
    "    print(Polynomial(coeffs))\n",
    "    poly_func = np.vectorize(Polynomial(coeffs)) # \n",
    "    X = np.random.randn(m)\n",
    "    X = np.random.uniform(low=-_range, high=_range, size=(m,))\n",
    "    Y = poly_func(X)\n",
    "    return X, Y, coeffs #returns X (the input), Y (labels) and coefficients for each power\n",
    "\n",
    "m = 20 # how many examples do we want?\n",
    "order = 3 # how many powers do we want to raise our input data to?\n",
    "X, Y, ground_truth_coeffs = sample_polynomial_data(m, order)\n",
    "print('X:',X, '\\n')\n",
    "print('Y:',Y, '\\n')\n",
    "print('Ground truth coefficients:', ground_truth_coeffs, '\\n')\n",
    "plot_data(X, Y)\n",
    "\n",
    "class MultiVariableLinearHypothesis:\n",
    "    def __init__(self, n_features, regularization_factor): #add regularization factor as parameter\n",
    "        self.n_features = n_features\n",
    "        self.regularization_factor = regularization_factor\n",
    "        self.b = np.random.randn()\n",
    "        self.w = np.random.randn(n_features)\n",
    "        \n",
    "    def __call__(self, X): # what happens when we call our model, input is of shape (n_examples, n_features)\n",
    "        y_hat = np.matmul(X, self.w) + self.b # make prediction, now using vector of weights rather than a single value\n",
    "        return y_hat # output is of shape (n_examples, 1)\n",
    "    \n",
    "    def update_params(self, new_w, new_b):\n",
    "        self.w = new_w\n",
    "        self.b = new_b\n",
    "        \n",
    "    def calc_deriv(self, X, y_hat, labels):\n",
    "        diffs = y_hat-labels\n",
    "        dLdw = 2 * np.array([np.sum(diffs * X[:, i]) / m for i in range(self.n_features)]) + self.regularization_factor*self.w # add regularization gradient\n",
    "        dLdb = 2 * np.sum(diffs) / m\n",
    "        return dLdw, dLdb\n",
    "\n",
    "def create_polynomial_inputs(X, order=3):\n",
    "    new_dataset = np.array([np.power(X, i) for i in range(1, order + 1)]).T\n",
    "    return new_dataset # new_dataset should be shape [m, order]\n",
    "\n",
    "def train(num_epochs, X, Y, H):\n",
    "    for e in range(num_epochs): # for this many complete runs through the dataset\n",
    "        y_hat = H(X) # make predictions\n",
    "        dLdw, dLdb = H.calc_deriv(X, y_hat, Y) # calculate gradient of current loss with respect to model parameters\n",
    "        new_w = H.w - learning_rate * dLdw # compute new model weight using gradient descent update rule\n",
    "        new_b = H.b - learning_rate * dLdb # compute new model bias using gradient descent update rule\n",
    "#       norm = np.linalg.norm([[new_w - H.w], [new_b - H.w]], 2)\n",
    "        H.update_params(new_w, new_b) # update model weight and bias\n",
    "#     print(f'THE MODEL DIDNT CONVERGE IN {num_epochs} EPOCHS')\n",
    "def plot_h_vs_y(X, y_hat, Y):\n",
    "    plt.figure()\n",
    "    plt.scatter(X, Y, c='r', label='Label')\n",
    "    plt.scatter(X, y_hat, c='b', label='Prediction', marker='x')\n",
    "    plt.legend()\n",
    "    plt.xlabel('X')\n",
    "    plt.ylabel('Y')\n",
    "    plt.show()"
   ]
  },
  {
   "cell_type": "code",
   "execution_count": 14,
   "metadata": {},
   "outputs": [
    {
     "data": {
      "image/png": "[encoded data removed]",
      "text/plain": [
       "<Figure size 432x288 with 1 Axes>"
      ]
     },
     "metadata": {
      "needs_background": "light"
     },
     "output_type": "display_data"
    },
    {
     "name": "stdout",
     "output_type": "stream",
     "text": [
      "[ 0.34398409  0.04686265 -0.09603325  0.0347748  -0.17411679  0.05022729\n",
      " -0.15273151  0.0446114  -0.13116702  0.05343476 -0.1249526   0.05456386\n",
      " -0.08522885  0.0447835  -0.07481925]\n"
     ]
    }
   ],
   "source": [
    "num_epochs = 500\n",
    "learning_rate = 0.1\n",
    "regularization_factor = 0.1\n",
    "highest_order_power = 15\n",
    "\n",
    "polynomial_augmented_inputs = create_polynomial_inputs(X, highest_order_power) # need normalization to put higher coefficient variables on the same order of magnitude as the others\n",
    "H = MultiVariableLinearHypothesis(n_features=highest_order_power, regularization_factor=regularization_factor)\n",
    "\n",
    "train(num_epochs, polynomial_augmented_inputs, Y, H)\n",
    "plot_h_vs_y(X, H(polynomial_augmented_inputs), Y)\n",
    "print(H.w)"
   ]
  },
  {
   "cell_type": "markdown",
   "metadata": {},
   "source": [
    "## Next steps\n",
    "- [Intro to PyTorch](https://github.com/AI-Core/Strong-ML-Foundations/blob/master/Regularization.ipynb)"
   ]
  }
 ],
 "metadata": {
  "kernelspec": {
   "display_name": "Python 3",
   "language": "python",
   "name": "python3"
  },
  "language_info": {
   "codemirror_mode": {
    "name": "ipython",
    "version": 3
   },
   "file_extension": ".py",
   "mimetype": "text/x-python",
   "name": "python",
   "nbconvert_exporter": "python",
   "pygments_lexer": "ipython3",
   "version": "3.6.9"
  }
 },
 "nbformat": 4,
 "nbformat_minor": 2
}
