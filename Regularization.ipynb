{
 "cells": [
  {
   "cell_type": "markdown",
   "metadata": {},
   "source": [
    "# Regularization"
   ]
  },
  {
   "cell_type": "markdown",
   "metadata": {},
   "source": [
    "Regularization is the name given to techniques that bias our search towards a subset of all possible parameters in order to reduce overfitting.\n",
    "\n",
    "In the simple case, we bias the parameter values towards 0. This pushes the coeffecients of a feature to 0 if the feature is not contributing significantly to reducing the cost. For example, in the case that we are modelling a polynomial of order 2 using a polynomial of order 5, the coefficients of features which are of higher order than 2 should be pushed to 0.\n",
    "\n",
    "To implement the above method, we simply add an extra term to our normal cost function which is equal to the sum of the square of all weights multiplied by a \"regularization factor\" which controls the magnitude of the regularization. So the higher the weight values, the bigger the cost.\n",
    "\n",
    "![title](images/NN1_regularization.JPG)"
   ]
  },
  {
   "cell_type": "code",
   "execution_count": null,
   "metadata": {},
   "outputs": [],
   "source": []
  }
 ],
 "metadata": {
  "kernelspec": {
   "display_name": "Python 3",
   "language": "python",
   "name": "python3"
  },
  "language_info": {
   "codemirror_mode": {
    "name": "ipython",
    "version": 3
   },
   "file_extension": ".py",
   "mimetype": "text/x-python",
   "name": "python",
   "nbconvert_exporter": "python",
   "pygments_lexer": "ipython3",
   "version": "3.6.9"
  }
 },
 "nbformat": 4,
 "nbformat_minor": 2
}
