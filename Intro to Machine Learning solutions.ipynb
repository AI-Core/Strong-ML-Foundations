{
 "cells": [
  {
   "cell_type": "markdown",
   "metadata": {},
   "source": [
    "# Intro to machine learning\n",
    "\n",
    "## Prerequisites\n",
    "- [Basic Python](https://github.com/AI-Core/Python/blob/master/Intro%20to%20Python%20solutions.ipynb)\n",
    "\n",
    "## What is machine learning, and why do we care about it?\n",
    "\n",
    "Through experience, humans learn to act intelligently - to acquire and apply knowledge. We are all able to learn to accomplish tasks for ourselves, without explicitly being told how. However, there are still lots of important tasks that we don't know how to accomplish - maybe because we haven't had enough time to work on them, or maybe because. Machine learning is the field which focuses on how to have machines learn to accomplish goals for themselves.\n",
    "\n",
    "In general, the problem of accomplishing goals can be framed as trying to produce some intended output given an input. As such, machine learning is all about automatically learning to represent the relationships between inputs and outputs. These inputs and outputs can take many forms as illustrated below.\n",
    "\n",
    "![](images/inp-out.jpg)\n",
    "\n",
    "We'd like to be able to build algorithms that can learn to use inputs to predict useful outputs, and solve problems such as those shown above.\n",
    "\n",
    "**Building machines which can model the relationships between inputs and outputs is the goal of machine learning.**\n",
    "\n",
    "## How can we approach automatically learning to model the relationships between inputs and outputs?\n",
    "\n",
    "Almost all machine learning algorithms consist of 4 components:\n",
    "1. the data\n",
    "2. the model\n",
    "3. the criterion\n",
    "4. the optimiser\n",
    "\n",
    "This notebook will introduce you to all of those, with simple, practical examples.\n",
    "\n",
    "## Side note - three types of Machine Learning\n",
    "\n",
    "There are three main categories of problems within Machine Learning. It's worth knowing these straight away, although for this series we will only consider *supervised learning*.\n",
    "\n",
    "### **Unsupervised learning** \n",
    "Where we only have an input and try to predict something useful as an output, without being explicitly shown examples of what the output should be. This what data is likely to in order to better understand the underlying structure of it. E.g. we have data about houses and try to split these examples into different clusters.\n",
    "\n",
    "### **Reinforcement Learning**\n",
    "Where our algorithm controls and agent that interacts with it's evironment and has to learn what actions to take to perform a task. E.g. we are trying to get an robot to walk or an algorithm to learn how to win a game of chess.\n",
    "\n",
    "### **Supervised Learning**\n",
    "Where we predict an output from a input, given examples of input-output pairs. E.g. we use different features about a house such as location, number of rooms, etc and try to predict the price.\n",
    "\n",
    "In this notebook, and the first series of lectures, we will be learning about supervised learning - where we have datasets with both input features and output labels. Later notebooks will cover unsupervised learning and reinforcement learning. "
   ]
  },
  {
   "cell_type": "markdown",
   "metadata": {},
   "source": [
    "## 1. What is Data?\n",
    "\n",
    "As we saw above, algorithms can take inputs and produce outputs of many different forms, types, and shapes. In essence, all of these inputs and outputs are types of *data*.\n",
    "\n",
    "Data in and of itself is quite an abstract notion. What is data? How do we quantify it? How can we structure and organise data in a way that algorithms can interpret? This is what we will explore next.\n",
    "\n",
    "Imagine we would like to predict the average salary of a person. That is - we will capture the notion of a 'person' as a group of data points, and then somehow use this to predict a single data point - or scalar - being the average salary we can expect that person would achieve.\n",
    "\n",
    "How would we quantify a person in data? What kind of properties of that person would we capture? Which would be more useful or relevant for predicting their salary? \n",
    "\n",
    "How could we structure this data in a format which algorithms can interpret?\n"
   ]
  },
  {
   "cell_type": "markdown",
   "metadata": {},
   "source": [
    "### The Problem\n",
    "\n",
    "Let's import our own dataset.\n",
    "\n",
    "In `data/income_data.csv`, we have a .csv file containing 30 data points - examples of people in terms of their Age, and their yearly income in thousands. This is what it looks like:\n",
    "\n",
    "| Age (Years) | Salary (£K) |\n",
    "|-------------|-------------|\n",
    "| 43          | 40.3453          |\n",
    "| 32          | 36.4522        |\n",
    "| 64          | 55.2352          |\n",
    "\n"
   ]
  },
  {
   "cell_type": "code",
   "execution_count": 5,
   "metadata": {},
   "outputs": [
    {
     "data": {
      "image/png": "[encoded data removed]",
      "text/plain": [
       "<matplotlib.figure.Figure at 0x1110acdd8>"
      ]
     },
     "metadata": {
      "needs_background": "light"
     },
     "output_type": "display_data"
    }
   ],
   "source": [
    "# Let's import some data.\n",
    "import numpy as np\n",
    "import matplotlib.pyplot as plt\n",
    " \n",
    "data_income = np.genfromtxt('data/income_data.csv', delimiter=',') ## Import income data and save to variable.\n",
    "\n",
    "X = data_income[:, 0] ## Extract an array of the ages from the data.\n",
    "Y = data_income[:, 1] ## Extract an array of the salaries from the data.\n",
    "\n",
    "def plot_data(X, Y):\n",
    "    plt.figure() # create a figure\n",
    "    plt.scatter(X, Y, c='r') # plot the data in color=red\n",
    "    plt.xlabel('Age (Years)')\n",
    "    plt.ylabel('Salary (£K / Year)')\n",
    "    plt.show()\n",
    "    \n",
    "plot_data(ages, salaries)"
   ]
  },
  {
   "cell_type": "markdown",
   "metadata": {},
   "source": [
    "As we can see from above, our *inputs* would be the ages, and our *outputs* or *labels* would be the salary they earn.\n",
    "\n",
    "In this example, although we can imagine that the data was collected or observed empirically, the true underlying *data generating distribution*, or *data generating phenomenon* that in this case, is linear. \n",
    "\n",
    "There is a straight-line relationship between the ages, and the salary (i.e. $y=wx + b$). In life, this is not always the case. We can have much more complex relationships between features, and labels, as you can imagine.\n",
    "\n",
    "Let's explore how we can generally structure and shape our data.\n",
    "\n",
    "![image](images/data.jpg)\n",
    "![image](images/labels.jpg)\n",
    "\n",
    "\n",
    "As shown above, our supervised dataset consists of $m$ inputs (30 in our income data example). Each of these inputs has $n$ features, or properties (n-dimensional feature vectors). In our income dataset, each input has just a single feature (Age) - and each input has a corresponding label (it's a supervised dataset), being the Salary.\n",
    "\n",
    "As we illustrated earlier, inputs and outputs can take many forms. The inputs do not have to be vectors and the labels do not have to be scalars as shown in the example.\n",
    "\n",
    "- Image inputs could be matrices with width and height, rather than just vector length.\n",
    "- Inputs could only have one feature, in which case they would be scalars (this is what we will implement now)\n",
    "\n",
    "- If we were trying to classify an input as a member of a particular, discrete class (classifying dogs vs cats vs turtles for example), then we would have a vector output with the length of the number of classes - where each of those elements represents the confidence with which our model predicts the input to be a member of that corresponding class.\n",
    "- Outputs could be an image or a video or a sound wave or spectrogram\n",
    "\n",
    "<strong>Common synonyms</strong>\n",
    "- Inputs = Features\n",
    "- Outputs = Labels"
   ]
  },
  {
   "cell_type": "markdown",
   "metadata": {},
   "source": [
    "## 2. The model - How can we make predictions?\n",
    "We want to be able use information that we have, to predict useful information that we don't have. \n",
    "This is an input-output problem - we have an input (info we know), we want an output (info we don't have).\n",
    "Mathematical functions can represent input output relationships e.g. $y = 2x +3$.\n",
    "So we will use mathematical functions to model the relationship between our inputs and outputs.\n",
    "\n",
    "Lets create a simple model that represents a straight line (linear) relationship between the input and output (like our income data!) and use it to make predictions about outputs, given inputs.\n",
    "\n",
    "Our model will be of the form $y = wx + b$.\n",
    "\n",
    "![title](images/NN1_singlevar_lr_equation.JPG)"
   ]
  },
  {
   "cell_type": "code",
   "execution_count": 6,
   "metadata": {},
   "outputs": [],
   "source": [
    "class LinearHypothesis:\n",
    "    def __init__(self): #initalize parameters \n",
    "        self.w = np.random.randn() ## randomly initialise weight\n",
    "        self.b = np.random.randn() ## randomly initialise bias\n",
    "        \n",
    "    def __call__(self, X): # how do we calculate output from an input in our model?\n",
    "        ypred = self.w * X + self.b ## make a prediction\n",
    "        return ypred # return prediction\n",
    "    \n",
    "    def update_params(self, new_w, new_b):\n",
    "        self.w = new_w ## set this instance's weights to the new weight value passed to the function\n",
    "        self.b = new_b ## do the same for the bias"
   ]
  },
  {
   "cell_type": "code",
   "execution_count": 7,
   "metadata": {},
   "outputs": [
    {
     "name": "stdout",
     "output_type": "stream",
     "text": [
      "Input: [36. 56. 63. 31. 63. 70. 42. 55. 32. 20. 42. 54. 73. 46. 57. 59. 64. 58.\n",
      " 53. 68. 69. 54. 62. 21. 26. 39. 39. 70. 34. 44.] \n",
      "\n",
      "W: 0.8739608408106097 B: 0.5868361840550423 \n",
      "\n",
      "Prediction: [32.04942645 49.52864327 55.64636916 27.67962225 55.64636916 61.76409504\n",
      " 37.2931915  48.65468243 28.55358309 18.066053   37.2931915  47.78072159\n",
      " 64.38597756 40.78903486 50.40260411 52.15052579 56.52033    51.27656495\n",
      " 46.90676075 60.01617336 60.8901342  47.78072159 54.77240831 18.94001384\n",
      " 23.30981805 34.67130898 34.67130898 61.76409504 30.30150477 39.04111318] \n",
      "\n"
     ]
    }
   ],
   "source": [
    "H = LinearHypothesis() # instantiate our linear model\n",
    "y_hat = H(X) # make prediction\n",
    "print('Input:',X, '\\n')\n",
    "print('W:', H.w, 'B:', H.b, '\\n')\n",
    "print('Prediction:', y_hat, '\\n')"
   ]
  },
  {
   "cell_type": "markdown",
   "metadata": {},
   "source": [
    "Lets visualise our hypothesis against the true features and labels"
   ]
  },
  {
   "cell_type": "code",
   "execution_count": 8,
   "metadata": {},
   "outputs": [],
   "source": [
    "def plot_h_vs_y(X, y_hat, Y):\n",
    "    plt.figure()\n",
    "    plt.scatter(X, Y, c='r', label='Label')\n",
    "    plt.scatter(X, y_hat, c='b', label='Hypothesis', marker='x')\n",
    "    plt.legend()\n",
    "    plt.xlabel('X')\n",
    "    plt.ylabel('Y')\n",
    "    plt.show()"
   ]
  },
  {
   "cell_type": "code",
   "execution_count": 9,
   "metadata": {},
   "outputs": [
    {
     "data": {
      "image/png": "[encoded data removed]",
      "text/plain": [
       "<matplotlib.figure.Figure at 0x113fe3da0>"
      ]
     },
     "metadata": {
      "needs_background": "light"
     },
     "output_type": "display_data"
    }
   ],
   "source": [
    "plot_h_vs_y(X, y_hat, Y)"
   ]
  },
  {
   "cell_type": "markdown",
   "metadata": {},
   "source": [
    "## 3. The criterion - How do we know how good our model is?\n",
    "\n",
    "Our criterion should be a measure of how bad our model is. We will use it to compare different models. As the model gets worse the loss function should return larger values.\n",
    "\n",
    "<strong>Common synonyms</strong>\n",
    "- Loss funtion = cost function = criterion = error function\n",
    "\n",
    "### Mean squared error (MSE) loss\n",
    "\n",
    "**One way** to evaluate the performance of a model that predicts continuous (not discrete or bounded) outputs is to use the mean squared error loss. This does exactly what you think: it calculates the error (difference between our model's prediction and the true label) and then squares it and takes the mean of those square errors for each example. Squaring any value makes it positive, so as long as the error is not zero it will increase the value of the loss - regardless of whether our prediction is below (negative error) or above (positive error) the value of the label, the values of that **squared** difference will increase the returned loss.\n",
    "\n",
    "There are many other criterions that are useful for different tasks (e.g. cross entropy loss for classification)\n",
    "\n",
    "Let's write a function to calculate the cost using the mean squared error loss function. It should take in an array of predictions for different example inputs as well as an array of corresponding example labels. It should return a single number (scalar) that represents the MSE loss. \n",
    "\n",
    "![title](images/NN1_cost_function.JPG)"
   ]
  },
  {
   "cell_type": "code",
   "execution_count": 14,
   "metadata": {},
   "outputs": [],
   "source": [
    "def L(y_hat, labels):\n",
    "    errors = y_hat - labels ## calculate errors\n",
    "    squared_errors = errors ** 2 ## square errors\n",
    "    mean_squared_error = sum(squared_errors) / len(squared_errors) ## calculate mean \n",
    "    return mean_squared_error # return loss"
   ]
  },
  {
   "cell_type": "code",
   "execution_count": 15,
   "metadata": {},
   "outputs": [
    {
     "name": "stdout",
     "output_type": "stream",
     "text": [
      "109.91022485448588\n"
     ]
    }
   ],
   "source": [
    "cost = L(y_hat, Y)\n",
    "print(cost)"
   ]
  },
  {
   "cell_type": "markdown",
   "metadata": {},
   "source": [
    "## 4. The optimiser\n",
    "\n",
    "The optimiser optimises our model. Most machine learning models are **parametric**, which means that the function which they represent depends on their parameters (in our case the weight (slope) and bias (intercept)). Different optimisers improve our models using different algorithms.\n",
    "\n",
    "In this notebook we will implement some fundamental optimisation techniques: random search and grid search.\n",
    "\n",
    "### Random Search\n",
    "Random seach is the process of randomly choosing values within a specified range and testing them to evaluate how good they are. E.g. test random values between 0 and 10.\n",
    "\n",
    "![](images/NN1_randomsearch.JPG)\n",
    "\n",
    "Let's implement a function that tries a bunch of possible values for the weight and bias of our model."
   ]
  },
  {
   "cell_type": "code",
   "execution_count": 29,
   "metadata": {},
   "outputs": [],
   "source": [
    "def random_search(n_samples, limit=20):\n",
    "    best_weights = np.random.uniform(-limit, limit) # no best weight found yet\n",
    "    best_bias = np.random.uniform(-limit, limit) # no best bias found yet\n",
    "    lowest_cost = float('inf') # initialize it very high\n",
    "    for i in range(0, n_samples): # try this many different parameterisations\n",
    "        w = np.random.uniform(-limit, limit) # randomly sample a weight within the limits of the search\n",
    "        b = np.random.uniform(-limit, limit) # randomly sample a bias within the limits of the search\n",
    "        H.update_params(w, b) # update our model with random parameters\n",
    "        y_hat = H(X) # make prediction\n",
    "        cost = L(y_hat, Y) # calculate loss\n",
    "        if cost < lowest_cost: # if this is the best parameterisation so far\n",
    "            lowest_cost = cost # update the lowest running cost to the cost for this parameterisation\n",
    "            best_weights = w # get best weights so far from the model\n",
    "            best_bias = b # get best bias so far from the model\n",
    "    print('Lowest cost of', lowest_cost, 'achieved with weight of', best_weights, 'and bias of', best_bias)\n",
    "    return best_weights, best_bias"
   ]
  },
  {
   "cell_type": "code",
   "execution_count": 30,
   "metadata": {},
   "outputs": [
    {
     "name": "stdout",
     "output_type": "stream",
     "text": [
      "Lowest cost of 184.54957019514632 achieved with weight of 0.9224290992987569 and bias of 1.2297892468113147\n"
     ]
    },
    {
     "data": {
      "image/png": "[encoded data removed]",
      "text/plain": [
       "<matplotlib.figure.Figure at 0x114636e80>"
      ]
     },
     "metadata": {
      "needs_background": "light"
     },
     "output_type": "display_data"
    }
   ],
   "source": [
    "best_weights, best_bias = random_search(100) # do 100 samples in a random search \n",
    "H.update_params(best_weights, best_bias) # make sure to set our model's weights to the best values we found\n",
    "plot_h_vs_y(X, H(X), Y)"
   ]
  },
  {
   "cell_type": "markdown",
   "metadata": {},
   "source": [
    "### What happened?\n",
    "\n",
    "Our random search optimisation was able to fit the input-output relationship of our data! Or at least it got close. \n",
    "\n",
    "#### What would happen if our true parameter values were outside of the range [-20, 20]? \n",
    "\n",
    "The model performance wouldn't improve much!\n",
    "\n",
    "This is because of the limits of the values of the parameters that we perform the grid search over. In this case, by default we are only trying parameters in the range from -20 to 20. But if the true bias were to be, say 30, which is outside of this range - then the model would never sample a value close to this. \n",
    "\n",
    "So here we've assumed the range of values that our optimal parameterisation might be included in. Feel free to change this limit in the function definition to see the how the model performance changes."
   ]
  },
  {
   "cell_type": "markdown",
   "metadata": {},
   "source": [
    "### Grid Search\n",
    "\n",
    "Grid search is the process of trying out values at common intervals within a specified range for each parameter, and testing them to evaluate how good they are. E.g. test the values [0, 1, 2, 3, 4, 5]\n",
    "\n",
    "![](images/NN1_gridsearch.JPG)"
   ]
  },
  {
   "cell_type": "code",
   "execution_count": 31,
   "metadata": {},
   "outputs": [],
   "source": [
    "from itertools import permutations\n",
    "def generate_grid_search_values(n_params, n_samples_per_param=10, minval=-2.5, maxval=2.5):\n",
    "    print(f'Trying {n_samples_per_param} samples per parameter')\n",
    "    param_values = np.linspace(minval, maxval, n_samples_per_param) ## get list of different parameters to try\n",
    "    grid_samples = permutations(param_values, n_params) ## try every possible permutation of the param values\n",
    "    return grid_samples\n",
    "\n",
    "def grid_search(grid_search_values):\n",
    "    best_weights = np.random.randn() ## no best weight found yet\n",
    "    best_bias = np.random.randn() ## no best bias found yet\n",
    "    lowest_cost = float('inf') ## initialize it very high\n",
    "    for search_val in grid_search_values: # for each model parameterisation that we will try \n",
    "        w, b = search_val\n",
    "        H.update_params(w, b) ## update model parameters\n",
    "        y_hat = H(X) ## make prediction\n",
    "        cost = L(y_hat, Y) ## calculate loss\n",
    "        if cost < lowest_cost: ## if this is the best parameterisation so far\n",
    "            lowest_cost = cost ## update the lowest running cost to the cost for this parameterisation\n",
    "            best_weights = w ## get best weights so far from the model\n",
    "            best_bias = b ## get best bias so far from the model\n",
    "    print('Lowest cost of', lowest_cost, 'achieved with weight of', best_weights, 'and bias of', best_bias)\n",
    "    return best_weights, best_bias"
   ]
  },
  {
   "cell_type": "code",
   "execution_count": 34,
   "metadata": {},
   "outputs": [
    {
     "name": "stdout",
     "output_type": "stream",
     "text": [
      "Trying 10 samples per parameter\n",
      "Lowest cost of 33.45766276364499 achieved with weight of 0.8333333333333335 and bias of -2.5\n"
     ]
    },
    {
     "data": {
      "image/png": "[encoded data removed]",
      "text/plain": [
       "<matplotlib.figure.Figure at 0x1149f6898>"
      ]
     },
     "metadata": {
      "needs_background": "light"
     },
     "output_type": "display_data"
    },
    {
     "name": "stdout",
     "output_type": "stream",
     "text": [
      "Trying 9 samples per parameter\n",
      "Lowest cost of 2.626840407043302 achieved with weight of 0.625 and bias of 2.5\n"
     ]
    },
    {
     "data": {
      "image/png": "[encoded data removed]",
      "text/plain": [
       "<matplotlib.figure.Figure at 0x1149f67f0>"
      ]
     },
     "metadata": {
      "needs_background": "light"
     },
     "output_type": "display_data"
    }
   ],
   "source": [
    "# try using 100 grid search values\n",
    "grid_search_values = generate_grid_search_values(2, n_samples=100) # generate model parameterisations to try\n",
    "best_weights, best_bias = grid_search(grid_search_values) # perform grid search\n",
    "H.update_params(best_weights, best_bias) ## update model with best parameters found\n",
    "plot_h_vs_y(X, H(X), Y) # plot predictions and true labels\n",
    "\n",
    "grid_search_values = generate_grid_search_values(2, n_samples=99) # generate model parameterisations to try\n",
    "best_weights, best_bias = grid_search(grid_search_values) # perform grid search\n",
    "H.update_params(best_weights, best_bias) # update model with best parameters found\n",
    "plot_h_vs_y(X, H(X), Y) # plot predictions and true labels"
   ]
  },
  {
   "cell_type": "markdown",
   "metadata": {},
   "source": [
    "### What happened?\n",
    "\n",
    "#### Why the difference in predictions from 100 samples (pretty bad) and 99 samples (pretty good)? \n",
    "\n",
    "Well, grid search will only test parameterisations that are exactly on it's grid. In the case of the 100 samples, the optimal parameters do exist within this region, but they dont lie exactly on the grid - they lie between points that we test on the grid. Hence those optimal parameters are not found. \n",
    "\n",
    "With the 99 samples, one of the parameterisations (pairs of weight and bias) on our grid lies close to the actual optimal values. So the model manages to much better represent the input-output relationship between our features and labels.\n",
    "\n",
    "Another danger would be that the space which we are searching with our grid does not contain the optimal parameterisation - which is a common issue we face with Random Search."
   ]
  },
  {
   "cell_type": "markdown",
   "metadata": {},
   "source": [
    "### Will random search and grid search get us all the way?\n",
    "\n",
    "Aside from the issues showcased above, the major limitation of these search methods is how they scale with the number of parameters in our model. \n",
    "\n",
    "To model more complex functions we'll need more complex models - models with more parameters. \n",
    "\n",
    "But the time taken for these search methods scales **exponentially** with the number of parameters. This is because these methods have to search the whole space, and they keep searching even if they find the optimal value (they can't be sure it's the best parameterisation in the domain that they're checking until they've compared it to everywhere else."
   ]
  },
  {
   "cell_type": "markdown",
   "metadata": {},
   "source": [
    "## Yes, you made it!\n",
    "In this notebook, we learnt the very basic recipe for making machine learning algorithms. This consisted of:\n",
    "1. The data - our examples of inputs and outputs (in the supervised case) which determine the function that our model will learn to represent and hence the problem that we are solving\n",
    "2. The model - our mathematical function that we pass our data forward through to make a prediction for the output\n",
    "3. The criterion - how we measure how bad our model is. We used the mean squared error loss function.\n",
    "4. The optimiser - our method for updating the parameters of our models. We tried out random search and grid search.\n",
    "\n",
    "\n",
    "## Next steps\n",
    "- [Gradient based optimisation](https://github.com/AI-Core/Strong-ML-Foundations/blob/master/Gradient%20based%20optimisation.ipynb) - in this notebook we will look at optimisation techniques that do scale to \n",
    "more complex models and problems"
   ]
  }
 ],
 "metadata": {
  "kernelspec": {
   "display_name": "Python 3",
   "language": "python",
   "name": "python3"
  },
  "language_info": {
   "codemirror_mode": {
    "name": "ipython",
    "version": 3
   },
   "file_extension": ".py",
   "mimetype": "text/x-python",
   "name": "python",
   "nbconvert_exporter": "python",
   "pygments_lexer": "ipython3",
   "version": "3.6.8"
  }
 },
 "nbformat": 4,
 "nbformat_minor": 2
}
